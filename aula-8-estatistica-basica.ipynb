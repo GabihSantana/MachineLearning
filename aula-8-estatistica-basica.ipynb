{
 "cells": [
  {
   "cell_type": "markdown",
   "metadata": {},
   "source": [
    "# Tipos de Variaveis\n",
    "\n",
    "Valores variam de elemento para elemento.\n",
    "\n",
    "Sao representadas por colunas da base de dados. Podem ter valores numericos ou nao numericos e podem ser classificadas como:\n",
    "   \n",
    "# Variaveis Quantitativas (numericas):\n",
    "\n",
    "Podem ser medidas em uma escala quantitativa - valores numericos.\n",
    "\n",
    "Podem ser:\n",
    "\n",
    "### Discretas:\n",
    "Sao mensuraveis e podem assumir apenas um numero finito ou infinito contavel de valores e, assim, somente fazem sentido valores inteiros. Geralmente sao resultado de contagens - Num Filhos, cigarros fumados por dia etc\n",
    "\n",
    "### Continua:\n",
    "Mensuraveis que assumem valores em uma escala continua (reta real), para quais valores fracionais fazem sentido. Usualmente devem ser medidas atraves de algum instrumento\n",
    "> peso (balanca), altura (regua), tempo (relogio), pressao arterial, idade\n",
    "\n",
    "# Variaveis Qualitativas (categoricas):\n",
    "Nao possusem valores quantitativos, mas sao definidas por varias categorias, ou seja, representam uma classificacao dos individuos\n",
    "\n",
    "Podem ser:\n",
    "\n",
    "### Nominais:\n",
    "Nao existe ordenacao dentre as categorias - Sexo, cor dos olhos, fumante/nao fumante, doente/sadio\n",
    "\n",
    "### Ordinais:\n",
    "Ordenacao entre as categorias - escolaridade (1o, 2o, 3o graus), estadio da doenca (inicial, intermediario, terminal), mes de observacao (janeiro, fevereiro, ... dezembro)\n"
   ]
  },
  {
   "cell_type": "markdown",
   "metadata": {},
   "source": [
    "# Estatistica\n",
    "\n",
    "Ramo da matematica que trata da coleta, analise, interpretacao e da apresentacao de massas de dados numericos.\n",
    "\n",
    "E importante para Ciencia de dados, utilizada para analisar uma serie de situacoes e problemas atraves de seus mais variados conceitos"
   ]
  },
  {
   "cell_type": "markdown",
   "metadata": {},
   "source": [
    "# Estatistica Descritiva\n",
    "\n",
    "> Trabalha com dados muito grande, sendo dificil de analisar individualmente\n",
    "\n",
    "Para ajudar neste problema, utiliza-se estatistica descritiva que tem como objetivo de descrever e sumarizar um conjunto de dados\n",
    "\n",
    "As estatisticas descritivas mais comuns, que sao extraidas de variaveis continuas ou discretas, sao as que buscam responder as questoes:\n",
    "\n",
    "### Medidas de Tendencia Central:\n",
    "em que regiao do dominio da variavel a amostra obtida tende a se concentrar\n",
    "\n",
    "### Medidas de Dispersao:\n",
    "O quao espalhada a variavel esta em torno dessa regiao de concetracao\n",
    "\n",
    "### Associacao:\n",
    "qual o grau e sentido da relacao entre variavel e as demais disponiveis\n",
    "\n"
   ]
  },
  {
   "cell_type": "markdown",
   "metadata": {},
   "source": [
    "# Medidas de Tendencia Central - Centro\n",
    "\n",
    "- Media\n",
    "- Mediana\n",
    "- Quantis\n",
    "- Moda\n",
    "\n",
    "#### Medidas separatrizes\n",
    "Sepracao de agrupamento de dados."
   ]
  },
  {
   "cell_type": "markdown",
   "metadata": {},
   "source": [
    "# Medidas de Dispersao \n",
    "Idicam o quao espalhados os dados estao:\n",
    "\n",
    "- amplitude\n",
    "- variancia\n",
    "- desvio padrao\n",
    "- desvio absoluto"
   ]
  },
  {
   "cell_type": "markdown",
   "metadata": {},
   "source": [
    "## Amplitude\n",
    "Diferenca entre o maior e o menor valor em um conjunto de dados\n",
    ".max() .min()\n",
    "\n",
    "## Variancia\n",
    "Mostra quanto os dados de um conjunto estao afastadas de seu valor esperado\n",
    ".var() -> pandas\n",
    "\n",
    "## Desvio Padrao\n",
    "Quanto os dados estao afastados da media\n",
    ".std() -> Pandas\n",
    "\n",
    "\n",
    "# Desvio Absoluto\n",
    "Encontrando a media dos valos, depois calcula a distancia de cada ponto desta media, soma as distancias e divide pelo resultado da media destas distancias\n",
    ".mad() -> pandas"
   ]
  },
  {
   "cell_type": "markdown",
   "metadata": {},
   "source": [
    "# Medidas de Associacao\n",
    "\n",
    "Comparar duas colunas / duas medidas\n",
    "\n",
    "- Covariancia\n",
    "- Correlacao\n",
    "\n",
    "## Covariancia:\n",
    "> Medida numerica que indica a interdependencia entre as duas variaveis\n",
    "\n",
    "Se for igual a 0 indica que sao totalmente independentes, enquanto que uma covariancia alta e positiva indica que a variavel A e grande quando a outro e grande. (se comportam igual)\n",
    "\n",
    "Um covariancia negativa e com valor absoluto alto indica que uma variavel e pequena quando a outro e grande\n",
    "\n",
    ".cov()\n",
    "\n",
    "## Correlacao\n",
    "> Pega a covariancia e tira pela raiz da diferenca\n",
    "\n",
    ".corr(), .cov()\n",
    "\n",
    "# Medidas de Forma\n",
    "Trazem informacoes sobre o formato da distribuicao\n",
    "\n",
    "## Assimetria\n",
    "> Funcao de descobrir o quanto aquela variavel aleatoria ta em torno de sua media\n",
    "\n",
    "Se a assimetria for negativa, a distribuicao tende a direita, se for positiva, tende a esquerda\n",
    "Compreender como esta aquela distribuicao de dados\n",
    "\n",
    "## Curtose:\n",
    "Caracteriza o pico ou achatamento da curva da funcao de distribuicao de probabilidade de uma variavel aleatoria\n",
    "\n",
    "Se for igual a 0: O pico da curva possui achatamento similar a distribuicao normal\n",
    "Se for positiva: O pico da funcao e mais afunilado e a funcao e mais concentrada\n",
    "Se for negativa: O pico da funcao e mais achatado e a funcao mais dispersa"
   ]
  },
  {
   "cell_type": "markdown",
   "metadata": {},
   "source": [
    "# Distribuicoes de Probabilidade\n",
    "\n",
    "- Continuas:\n",
    "    - Exemplos: Medidas de comprimento, tensao eletrica, valores de uma acao etc\n",
    "- Discretas:\n",
    "    - Numero de vezes que uma maquina apresenta um problema em um periodo\n",
    "    \n",
    "Quando criamos um numero aleatorio, precisamos definir o tipo de distribuicao de probabilidade que originou aquele valor:\n",
    "- Distribuicao normal ou gaussiana pelo o numero aleatorio pode variar entre - infinito e +infinito, contudo e provavel que o valor esteja entre -3 e +3\n",
    "\n",
    "- Distribuicao Uniforme: pelo o numero randomico - estara entre 0 e 1"
   ]
  },
  {
   "cell_type": "code",
   "execution_count": 2,
   "metadata": {},
   "outputs": [
    {
     "name": "stdout",
     "output_type": "stream",
     "text": [
      "Uniforme:  [0.99762509 0.5785112  0.02968929 0.55178011 0.10955958]\n",
      "Normal:  [ 0.73555047  0.67792215  0.30216133  1.16423001 -0.08850478]\n"
     ]
    }
   ],
   "source": [
    "import numpy as np\n",
    "\n",
    "x_unif = np.random.uniform(0,1,5)\n",
    "print('Uniforme: ', x_unif)\n",
    "\n",
    "x_norm = np.random.normal(0,1,5)\n",
    "print('Normal: ', x_norm)"
   ]
  },
  {
   "cell_type": "markdown",
   "metadata": {},
   "source": [
    "# Histograma \n",
    "\n",
    "Forma de representar um grupo de dados. Temos a frequencia em que valores se apresentam em um intervalo, chamado de bin\n"
   ]
  },
  {
   "cell_type": "markdown",
   "metadata": {},
   "source": [
    "# Funcao Densidade de Probabilidade (PDF):\n",
    "\n",
    "Funcao que descreve a verossimilhanca de uma variavel aleatoria tomar um valor dado\n",
    "\n",
    "Probabilidade da variavel aleatoria cair em uma faixa particular e dada pela integral da densidade dessa variavel sobre tal faixa - isto e, e dada pela area abaixo da funcao densidade mas acima do eixo horizontal e entre o menor e o maior valor dessa faixa\n",
    "\n",
    "Nunca e negativa, e sua integral sobre todo o espaco e = 1\n",
    "\n",
    "np.median(diff(bins))"
   ]
  }
 ],
 "metadata": {
  "kernelspec": {
   "display_name": "Python 3",
   "language": "python",
   "name": "python3"
  },
  "language_info": {
   "codemirror_mode": {
    "name": "ipython",
    "version": 3
   },
   "file_extension": ".py",
   "mimetype": "text/x-python",
   "name": "python",
   "nbconvert_exporter": "python",
   "pygments_lexer": "ipython3",
   "version": "3.8.10"
  }
 },
 "nbformat": 4,
 "nbformat_minor": 4
}
