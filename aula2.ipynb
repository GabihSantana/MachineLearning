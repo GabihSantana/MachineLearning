{
 "cells": [
  {
   "cell_type": "markdown",
   "id": "62e900ac",
   "metadata": {},
   "source": [
    "# Aula 02 - Numpy \n",
    "Biblioteca para processamento de arrays de uso geral, que fornece um conjunto de funcoes e metodos uteis para trabalhar arrays de multiplas dimensoes. Travis Oliphant foi o criador do numpy"
   ]
  },
  {
   "cell_type": "code",
   "execution_count": 1,
   "id": "d9623ee1",
   "metadata": {},
   "outputs": [],
   "source": [
    "# Matrizes em Numpy\n",
    "import numpy as np\n",
    "\n",
    "array = np.array([[1,2,3], [4,2,2]])"
   ]
  },
  {
   "cell_type": "code",
   "execution_count": 2,
   "id": "34219098",
   "metadata": {},
   "outputs": [
    {
     "name": "stdout",
     "output_type": "stream",
     "text": [
      "Defaulting to user installation because normal site-packages is not writeable\n",
      "Requirement already satisfied: pandas in ./.local/lib/python3.8/site-packages (1.5.3)\n",
      "Requirement already satisfied: python-dateutil>=2.8.1 in ./.local/lib/python3.8/site-packages (from pandas) (2.9.0.post0)\n",
      "Requirement already satisfied: pytz>=2020.1 in ./.local/lib/python3.8/site-packages (from pandas) (2024.2)\n",
      "Requirement already satisfied: numpy>=1.20.3 in ./.local/lib/python3.8/site-packages (from pandas) (1.24.4)\n",
      "Requirement already satisfied: six>=1.5 in /usr/lib/python3/dist-packages (from python-dateutil>=2.8.1->pandas) (1.14.0)\n",
      "\n",
      "\u001b[1m[\u001b[0m\u001b[34;49mnotice\u001b[0m\u001b[1;39;49m]\u001b[0m\u001b[39;49m A new release of pip is available: \u001b[0m\u001b[31;49m24.2\u001b[0m\u001b[39;49m -> \u001b[0m\u001b[32;49m24.3.1\u001b[0m\n",
      "\u001b[1m[\u001b[0m\u001b[34;49mnotice\u001b[0m\u001b[1;39;49m]\u001b[0m\u001b[39;49m To update, run: \u001b[0m\u001b[32;49mpython3 -m pip install --upgrade pip\u001b[0m\n",
      "Note: you may need to restart the kernel to use updated packages.\n"
     ]
    }
   ],
   "source": [
    "pip install pandas"
   ]
  },
  {
   "cell_type": "code",
   "execution_count": 3,
   "id": "c10ae689",
   "metadata": {},
   "outputs": [
    {
     "data": {
      "text/plain": [
       "numpy.ndarray"
      ]
     },
     "execution_count": 3,
     "metadata": {},
     "output_type": "execute_result"
    }
   ],
   "source": [
    "type(array)"
   ]
  },
  {
   "cell_type": "code",
   "execution_count": 4,
   "id": "65788f13",
   "metadata": {},
   "outputs": [
    {
     "name": "stdout",
     "output_type": "stream",
     "text": [
      "2\n"
     ]
    }
   ],
   "source": [
    "print(array.ndim)"
   ]
  },
  {
   "cell_type": "code",
   "execution_count": 5,
   "id": "8a54f95b",
   "metadata": {},
   "outputs": [
    {
     "name": "stdout",
     "output_type": "stream",
     "text": [
      "6\n"
     ]
    }
   ],
   "source": [
    "print(array.size)"
   ]
  },
  {
   "cell_type": "code",
   "execution_count": 6,
   "id": "2c90479f",
   "metadata": {},
   "outputs": [
    {
     "name": "stdout",
     "output_type": "stream",
     "text": [
      "int64\n"
     ]
    }
   ],
   "source": [
    "print(array.dtype)"
   ]
  },
  {
   "cell_type": "code",
   "execution_count": 7,
   "id": "2367e831",
   "metadata": {},
   "outputs": [
    {
     "name": "stdout",
     "output_type": "stream",
     "text": [
      "(2, 3)\n"
     ]
    }
   ],
   "source": [
    "print(array.shape)"
   ]
  },
  {
   "cell_type": "code",
   "execution_count": 8,
   "id": "ea7b1a9b",
   "metadata": {},
   "outputs": [],
   "source": [
    "array2 = np.array([[1,2,3], [4,2,2]], dtype=float)"
   ]
  },
  {
   "cell_type": "code",
   "execution_count": 9,
   "id": "5d404004",
   "metadata": {},
   "outputs": [
    {
     "name": "stdout",
     "output_type": "stream",
     "text": [
      "[[1. 2. 3.]\n",
      " [4. 2. 2.]]\n"
     ]
    }
   ],
   "source": [
    "print(array2)"
   ]
  },
  {
   "cell_type": "code",
   "execution_count": 10,
   "id": "d1a24f1d",
   "metadata": {},
   "outputs": [
    {
     "name": "stdout",
     "output_type": "stream",
     "text": [
      "float64\n"
     ]
    }
   ],
   "source": [
    "print(array2.dtype)"
   ]
  },
  {
   "cell_type": "code",
   "execution_count": 11,
   "id": "f90291d4",
   "metadata": {},
   "outputs": [],
   "source": [
    "array3 = np.array((1,2,3))"
   ]
  },
  {
   "cell_type": "code",
   "execution_count": 12,
   "id": "280bf78b",
   "metadata": {},
   "outputs": [
    {
     "data": {
      "text/plain": [
       "array([1, 2, 3])"
      ]
     },
     "execution_count": 12,
     "metadata": {},
     "output_type": "execute_result"
    }
   ],
   "source": [
    "array3"
   ]
  },
  {
   "cell_type": "code",
   "execution_count": 13,
   "id": "f46d6cf3",
   "metadata": {},
   "outputs": [],
   "source": [
    "# cria uma matriz 4,6 de 1\n",
    "array4 = np.ones((4,6))"
   ]
  },
  {
   "cell_type": "code",
   "execution_count": 14,
   "id": "c53afc51",
   "metadata": {},
   "outputs": [
    {
     "data": {
      "text/plain": [
       "array([[1., 1., 1., 1., 1., 1.],\n",
       "       [1., 1., 1., 1., 1., 1.],\n",
       "       [1., 1., 1., 1., 1., 1.],\n",
       "       [1., 1., 1., 1., 1., 1.]])"
      ]
     },
     "execution_count": 14,
     "metadata": {},
     "output_type": "execute_result"
    }
   ],
   "source": [
    "array4"
   ]
  },
  {
   "cell_type": "code",
   "execution_count": 15,
   "id": "210f5094",
   "metadata": {},
   "outputs": [],
   "source": [
    "array5 = np.zeros((4,6))"
   ]
  },
  {
   "cell_type": "code",
   "execution_count": 16,
   "id": "957851ba",
   "metadata": {},
   "outputs": [
    {
     "data": {
      "text/plain": [
       "array([[0., 0., 0., 0., 0., 0.],\n",
       "       [0., 0., 0., 0., 0., 0.],\n",
       "       [0., 0., 0., 0., 0., 0.],\n",
       "       [0., 0., 0., 0., 0., 0.]])"
      ]
     },
     "execution_count": 16,
     "metadata": {},
     "output_type": "execute_result"
    }
   ],
   "source": [
    "array5"
   ]
  },
  {
   "cell_type": "code",
   "execution_count": 17,
   "id": "a8206dea",
   "metadata": {},
   "outputs": [],
   "source": [
    "array6 = np.full((3,3), 6, dtype=complex)"
   ]
  },
  {
   "cell_type": "code",
   "execution_count": 18,
   "id": "63c2e94e",
   "metadata": {},
   "outputs": [
    {
     "data": {
      "text/plain": [
       "array([[6.+0.j, 6.+0.j, 6.+0.j],\n",
       "       [6.+0.j, 6.+0.j, 6.+0.j],\n",
       "       [6.+0.j, 6.+0.j, 6.+0.j]])"
      ]
     },
     "execution_count": 18,
     "metadata": {},
     "output_type": "execute_result"
    }
   ],
   "source": [
    "array6"
   ]
  },
  {
   "cell_type": "code",
   "execution_count": 19,
   "id": "bbfb8234",
   "metadata": {},
   "outputs": [
    {
     "data": {
      "text/plain": [
       "array([0, 2, 4, 6, 8])"
      ]
     },
     "execution_count": 19,
     "metadata": {},
     "output_type": "execute_result"
    }
   ],
   "source": [
    "np.arange(0,10,2)"
   ]
  },
  {
   "cell_type": "code",
   "execution_count": 20,
   "id": "b572c558",
   "metadata": {},
   "outputs": [
    {
     "data": {
      "text/plain": [
       "array([ 0,  3,  6,  9, 12, 15, 18, 21, 24, 27])"
      ]
     },
     "execution_count": 20,
     "metadata": {},
     "output_type": "execute_result"
    }
   ],
   "source": [
    "np.arange(0,30,3)"
   ]
  },
  {
   "cell_type": "code",
   "execution_count": 21,
   "id": "a420eb57",
   "metadata": {},
   "outputs": [
    {
     "data": {
      "text/plain": [
       "array([ 0. ,  2.5,  5. ,  7.5, 10. ])"
      ]
     },
     "execution_count": 21,
     "metadata": {},
     "output_type": "execute_result"
    }
   ],
   "source": [
    "np.linspace(0,10, 5)"
   ]
  },
  {
   "cell_type": "code",
   "execution_count": 22,
   "id": "03da73a7",
   "metadata": {},
   "outputs": [],
   "source": [
    "array7 = np.array([[1,2,3,4], [5, 4, 3, 2], [9,8,7,6]])"
   ]
  },
  {
   "cell_type": "code",
   "execution_count": 23,
   "id": "fd4487df",
   "metadata": {},
   "outputs": [
    {
     "name": "stdout",
     "output_type": "stream",
     "text": [
      "[[1 2 3 4]\n",
      " [5 4 3 2]\n",
      " [9 8 7 6]]\n"
     ]
    }
   ],
   "source": [
    "print(array7)"
   ]
  },
  {
   "cell_type": "code",
   "execution_count": 24,
   "id": "dc43e289",
   "metadata": {},
   "outputs": [],
   "source": [
    "array8 = array7.reshape(2,2,3)"
   ]
  },
  {
   "cell_type": "code",
   "execution_count": 25,
   "id": "439adca7",
   "metadata": {},
   "outputs": [
    {
     "name": "stdout",
     "output_type": "stream",
     "text": [
      "[[[1 2 3]\n",
      "  [4 5 4]]\n",
      "\n",
      " [[3 2 9]\n",
      "  [8 7 6]]]\n"
     ]
    }
   ],
   "source": [
    "print(array8)"
   ]
  },
  {
   "cell_type": "code",
   "execution_count": 26,
   "id": "3d67c8f8",
   "metadata": {},
   "outputs": [],
   "source": [
    "array9 = np.array([[1,2,3,4], [5, 4, 3, 2]])"
   ]
  },
  {
   "cell_type": "code",
   "execution_count": 27,
   "id": "ab7d3052",
   "metadata": {},
   "outputs": [],
   "source": [
    "array_flat = array9.flatten()"
   ]
  },
  {
   "cell_type": "code",
   "execution_count": 28,
   "id": "cee8155f",
   "metadata": {},
   "outputs": [
    {
     "name": "stdout",
     "output_type": "stream",
     "text": [
      "[1 2 3 4 5 4 3 2]\n"
     ]
    }
   ],
   "source": [
    "print(array_flat)"
   ]
  },
  {
   "cell_type": "code",
   "execution_count": 29,
   "id": "eb6eeac7",
   "metadata": {},
   "outputs": [],
   "source": [
    "array10 = np.array([[1,2,-3,4,5], [-5, 4, 3, 2,9], [4, 8,-3,4,0], [1,2,3,-4,9]])"
   ]
  },
  {
   "cell_type": "code",
   "execution_count": 30,
   "id": "2f115170",
   "metadata": {},
   "outputs": [
    {
     "name": "stdout",
     "output_type": "stream",
     "text": [
      "[[ 1  2 -3  4  5]\n",
      " [-5  4  3  2  9]\n",
      " [ 4  8 -3  4  0]\n",
      " [ 1  2  3 -4  9]]\n"
     ]
    }
   ],
   "source": [
    "print(array10)"
   ]
  },
  {
   "cell_type": "code",
   "execution_count": 31,
   "id": "bc77ff1b",
   "metadata": {},
   "outputs": [],
   "source": [
    "temporario = array10[:2, ::2]"
   ]
  },
  {
   "cell_type": "code",
   "execution_count": 32,
   "id": "166b51df",
   "metadata": {},
   "outputs": [
    {
     "name": "stdout",
     "output_type": "stream",
     "text": [
      "[[ 1 -3  5]\n",
      " [-5  3  9]]\n"
     ]
    }
   ],
   "source": [
    "print(temporario)"
   ]
  },
  {
   "cell_type": "code",
   "execution_count": 33,
   "id": "60b0bb1b",
   "metadata": {},
   "outputs": [],
   "source": [
    "condicional = array10 > 0"
   ]
  },
  {
   "cell_type": "code",
   "execution_count": 34,
   "id": "54cef125",
   "metadata": {},
   "outputs": [],
   "source": [
    "temporario2 = array10[condicional]"
   ]
  },
  {
   "cell_type": "code",
   "execution_count": 35,
   "id": "281ecfa3",
   "metadata": {},
   "outputs": [
    {
     "name": "stdout",
     "output_type": "stream",
     "text": [
      "[1 2 4 5 4 3 2 9 4 8 4 1 2 3 9]\n"
     ]
    }
   ],
   "source": [
    "print(temporario2)"
   ]
  },
  {
   "cell_type": "code",
   "execution_count": 36,
   "id": "5df42012",
   "metadata": {},
   "outputs": [
    {
     "name": "stdout",
     "output_type": "stream",
     "text": [
      "[[ 1  4  9 16 25]\n",
      " [25 16  9  4 81]\n",
      " [16 64  9 16  0]\n",
      " [ 1  4  9 16 81]]\n"
     ]
    }
   ],
   "source": [
    "print(array10**2)"
   ]
  },
  {
   "cell_type": "code",
   "execution_count": 37,
   "id": "d0ff672c",
   "metadata": {},
   "outputs": [
    {
     "name": "stdout",
     "output_type": "stream",
     "text": [
      "[[  5  10 -15  20  25]\n",
      " [-25  20  15  10  45]\n",
      " [ 20  40 -15  20   0]\n",
      " [  5  10  15 -20  45]]\n"
     ]
    }
   ],
   "source": [
    "print(array10*5)"
   ]
  },
  {
   "cell_type": "code",
   "execution_count": 38,
   "id": "a418f351",
   "metadata": {},
   "outputs": [
    {
     "name": "stdout",
     "output_type": "stream",
     "text": [
      "[[ 3  4 -1  6  7]\n",
      " [-3  6  5  4 11]\n",
      " [ 6 10 -1  6  2]\n",
      " [ 3  4  5 -2 11]]\n"
     ]
    }
   ],
   "source": [
    "print(array10+2)"
   ]
  },
  {
   "cell_type": "code",
   "execution_count": 39,
   "id": "5b34d6a3",
   "metadata": {},
   "outputs": [
    {
     "data": {
      "text/plain": [
       "array([[ 1, -5,  4,  1],\n",
       "       [ 2,  4,  8,  2],\n",
       "       [-3,  3, -3,  3],\n",
       "       [ 4,  2,  4, -4],\n",
       "       [ 5,  9,  0,  9]])"
      ]
     },
     "execution_count": 39,
     "metadata": {},
     "output_type": "execute_result"
    }
   ],
   "source": [
    "# Matriz transposta -> transpoe a matriz em colunas) O que era coluna virou linha\n",
    "array10.T"
   ]
  },
  {
   "cell_type": "code",
   "execution_count": 40,
   "id": "abf1ea77",
   "metadata": {},
   "outputs": [
    {
     "name": "stdout",
     "output_type": "stream",
     "text": [
      "9\n"
     ]
    }
   ],
   "source": [
    "print(array10.max())"
   ]
  },
  {
   "cell_type": "code",
   "execution_count": 41,
   "id": "3ed3007b",
   "metadata": {},
   "outputs": [
    {
     "name": "stdout",
     "output_type": "stream",
     "text": [
      "[4 8 3 4 9]\n"
     ]
    }
   ],
   "source": [
    "print(array10.max(axis=0)) # axis 0 -> colunas"
   ]
  },
  {
   "cell_type": "code",
   "execution_count": 42,
   "id": "2e43d49c",
   "metadata": {},
   "outputs": [
    {
     "data": {
      "text/plain": [
       "array([[ 1,  2, -3,  4,  5],\n",
       "       [-5,  4,  3,  2,  9],\n",
       "       [ 4,  8, -3,  4,  0],\n",
       "       [ 1,  2,  3, -4,  9]])"
      ]
     },
     "execution_count": 42,
     "metadata": {},
     "output_type": "execute_result"
    }
   ],
   "source": [
    "array10"
   ]
  },
  {
   "cell_type": "code",
   "execution_count": 43,
   "id": "206becda",
   "metadata": {},
   "outputs": [
    {
     "name": "stdout",
     "output_type": "stream",
     "text": [
      "[5 9 8 9]\n"
     ]
    }
   ],
   "source": [
    "print(array10.max(axis=1)) # axis 1 -> linhas"
   ]
  },
  {
   "cell_type": "code",
   "execution_count": 44,
   "id": "942103a6",
   "metadata": {},
   "outputs": [
    {
     "name": "stdout",
     "output_type": "stream",
     "text": [
      "[-3 -5 -3 -4]\n"
     ]
    }
   ],
   "source": [
    "print(array10.min(axis=1)) # axis 1 -> linhas"
   ]
  },
  {
   "cell_type": "code",
   "execution_count": 45,
   "id": "950108be",
   "metadata": {},
   "outputs": [
    {
     "name": "stdout",
     "output_type": "stream",
     "text": [
      "[4 8 3 4 9]\n"
     ]
    }
   ],
   "source": [
    "print(array10.max(axis=0)) # axis 0 -> colunas"
   ]
  },
  {
   "cell_type": "code",
   "execution_count": 46,
   "id": "dff302f7",
   "metadata": {},
   "outputs": [
    {
     "name": "stdout",
     "output_type": "stream",
     "text": [
      "46\n"
     ]
    }
   ],
   "source": [
    "print(array10.sum())"
   ]
  },
  {
   "cell_type": "code",
   "execution_count": 47,
   "id": "44f1f311",
   "metadata": {},
   "outputs": [
    {
     "name": "stdout",
     "output_type": "stream",
     "text": [
      "[[ 1  3  0  4  9]\n",
      " [-5 -1  2  4 13]\n",
      " [ 4 12  9 13 13]\n",
      " [ 1  3  6  2 11]]\n"
     ]
    }
   ],
   "source": [
    "print(array10.cumsum(axis=1)) # acomula linha a linha"
   ]
  },
  {
   "cell_type": "code",
   "execution_count": 48,
   "id": "6240f4b8",
   "metadata": {},
   "outputs": [
    {
     "name": "stdout",
     "output_type": "stream",
     "text": [
      "[[ 1  2 -3  4  5]\n",
      " [-4  6  0  6 14]\n",
      " [ 0 14 -3 10 14]\n",
      " [ 1 16  0  6 23]]\n"
     ]
    }
   ],
   "source": [
    "print(array10.cumsum(axis=0))"
   ]
  },
  {
   "cell_type": "code",
   "execution_count": 49,
   "id": "ec3ebc5d",
   "metadata": {},
   "outputs": [
    {
     "name": "stdout",
     "output_type": "stream",
     "text": [
      "[[   1    2   -3    4    5]\n",
      " [  -5    8   -9    8   45]\n",
      " [ -20   64   27   32    0]\n",
      " [ -20  128   81 -128    0]]\n"
     ]
    }
   ],
   "source": [
    "print(array10.cumprod(axis=0))"
   ]
  },
  {
   "cell_type": "code",
   "execution_count": 50,
   "id": "9cdc11fc",
   "metadata": {},
   "outputs": [],
   "source": [
    "array11 = np.array([[1,2], [5,4]])"
   ]
  },
  {
   "cell_type": "code",
   "execution_count": 51,
   "id": "94dcb48e",
   "metadata": {},
   "outputs": [],
   "source": [
    "array12 = np.array([[4,5], [2,1]])"
   ]
  },
  {
   "cell_type": "code",
   "execution_count": 52,
   "id": "63917fa7",
   "metadata": {},
   "outputs": [
    {
     "name": "stdout",
     "output_type": "stream",
     "text": [
      "[[5 7]\n",
      " [7 5]]\n"
     ]
    }
   ],
   "source": [
    "print(array11+array12)"
   ]
  },
  {
   "cell_type": "code",
   "execution_count": 53,
   "id": "4d3287ab",
   "metadata": {},
   "outputs": [
    {
     "name": "stdout",
     "output_type": "stream",
     "text": [
      "[[ 4 10]\n",
      " [10  4]]\n"
     ]
    }
   ],
   "source": [
    "print(array11*array12)"
   ]
  },
  {
   "cell_type": "code",
   "execution_count": 54,
   "id": "bf6de39b",
   "metadata": {},
   "outputs": [
    {
     "name": "stdout",
     "output_type": "stream",
     "text": [
      "[[ 8  7]\n",
      " [28 29]]\n"
     ]
    }
   ],
   "source": [
    "print(array11.dot(array12))"
   ]
  },
  {
   "cell_type": "code",
   "execution_count": 55,
   "id": "c51288f2",
   "metadata": {},
   "outputs": [],
   "source": [
    "array_pi = np.array([0,np.pi/2, np.pi])"
   ]
  },
  {
   "cell_type": "code",
   "execution_count": 56,
   "id": "1b16df32",
   "metadata": {},
   "outputs": [
    {
     "name": "stdout",
     "output_type": "stream",
     "text": [
      "[0.         1.57079633 3.14159265]\n"
     ]
    }
   ],
   "source": [
    "print(array_pi)"
   ]
  },
  {
   "cell_type": "code",
   "execution_count": 57,
   "id": "11864b7d",
   "metadata": {},
   "outputs": [
    {
     "name": "stdout",
     "output_type": "stream",
     "text": [
      "[ 1.000000e+00  6.123234e-17 -1.000000e+00]\n"
     ]
    }
   ],
   "source": [
    "print(np.cos(array_pi))"
   ]
  },
  {
   "cell_type": "code",
   "execution_count": 58,
   "id": "c78ee712",
   "metadata": {},
   "outputs": [
    {
     "data": {
      "text/plain": [
       "1.5707963267948966"
      ]
     },
     "execution_count": 58,
     "metadata": {},
     "output_type": "execute_result"
    }
   ],
   "source": [
    "np.mean(array_pi)"
   ]
  },
  {
   "cell_type": "code",
   "execution_count": 59,
   "id": "db1a47bc",
   "metadata": {},
   "outputs": [],
   "source": [
    "import time"
   ]
  },
  {
   "cell_type": "code",
   "execution_count": 60,
   "id": "0db1cffa",
   "metadata": {},
   "outputs": [],
   "source": [
    "size = 1000000"
   ]
  },
  {
   "cell_type": "code",
   "execution_count": 61,
   "id": "7a29c62b",
   "metadata": {},
   "outputs": [],
   "source": [
    "list1 = range(size)"
   ]
  },
  {
   "cell_type": "code",
   "execution_count": 62,
   "id": "40927bad",
   "metadata": {},
   "outputs": [],
   "source": [
    "list2 = range(size)"
   ]
  },
  {
   "cell_type": "code",
   "execution_count": 63,
   "id": "62018e57",
   "metadata": {},
   "outputs": [],
   "source": [
    "array14 = np.arange(size)\n",
    "array15 = np.arange(size)"
   ]
  },
  {
   "cell_type": "code",
   "execution_count": 64,
   "id": "107fbd63",
   "metadata": {},
   "outputs": [
    {
     "name": "stdout",
     "output_type": "stream",
     "text": [
      "0.14320755004882812\n"
     ]
    }
   ],
   "source": [
    "initialTime = time.time()\n",
    "\n",
    "lista_resultante = [(a*b) for a,b in zip(list1, list2)]\n",
    "print(time.time() - initialTime)"
   ]
  },
  {
   "cell_type": "code",
   "execution_count": 65,
   "id": "8e92400d",
   "metadata": {},
   "outputs": [
    {
     "name": "stdout",
     "output_type": "stream",
     "text": [
      "0.02204751968383789\n"
     ]
    }
   ],
   "source": [
    "initialTime = time.time()\n",
    "\n",
    "resultanteArray= array14 * array15\n",
    "print(time.time() - initialTime)"
   ]
  },
  {
   "cell_type": "code",
   "execution_count": 66,
   "id": "e6ea6857",
   "metadata": {},
   "outputs": [
    {
     "data": {
      "text/plain": [
       "68.96562609610663"
      ]
     },
     "execution_count": 66,
     "metadata": {},
     "output_type": "execute_result"
    }
   ],
   "source": [
    "# Array e mais rapido e eficiente doq listas (68x mais rapido)\n",
    "0.14063429832458496/0.002039194107055664"
   ]
  },
  {
   "cell_type": "markdown",
   "id": "415554d5",
   "metadata": {},
   "source": [
    "# Comparacao de elemento a elemento"
   ]
  },
  {
   "cell_type": "code",
   "execution_count": 67,
   "id": "68825ad9",
   "metadata": {},
   "outputs": [],
   "source": [
    "a = np.array([100,104,201])\n",
    "b = np.array([200,94,231])"
   ]
  },
  {
   "cell_type": "code",
   "execution_count": 68,
   "id": "18350ab1",
   "metadata": {},
   "outputs": [
    {
     "name": "stdout",
     "output_type": "stream",
     "text": [
      "[False  True False]\n"
     ]
    }
   ],
   "source": [
    "print(np.greater(a,b))"
   ]
  },
  {
   "cell_type": "code",
   "execution_count": 69,
   "id": "b5a56bab",
   "metadata": {},
   "outputs": [
    {
     "name": "stdout",
     "output_type": "stream",
     "text": [
      "[ True False  True]\n"
     ]
    }
   ],
   "source": [
    "print(np.less(a,b))"
   ]
  },
  {
   "cell_type": "code",
   "execution_count": 70,
   "id": "dcd46bfe",
   "metadata": {},
   "outputs": [
    {
     "name": "stdout",
     "output_type": "stream",
     "text": [
      "[False  True False]\n"
     ]
    }
   ],
   "source": [
    "print(np.greater_equal(a,b))"
   ]
  },
  {
   "cell_type": "code",
   "execution_count": 71,
   "id": "e89778df",
   "metadata": {},
   "outputs": [
    {
     "name": "stdout",
     "output_type": "stream",
     "text": [
      "[ True False  True]\n"
     ]
    }
   ],
   "source": [
    "print(np.less_equal(a,b))"
   ]
  },
  {
   "cell_type": "code",
   "execution_count": 72,
   "id": "8814075f",
   "metadata": {},
   "outputs": [
    {
     "name": "stdout",
     "output_type": "stream",
     "text": [
      "False\n"
     ]
    }
   ],
   "source": [
    "print(np.array_equal(a,b))"
   ]
  },
  {
   "cell_type": "code",
   "execution_count": 73,
   "id": "31202e6c",
   "metadata": {},
   "outputs": [
    {
     "data": {
      "text/plain": [
       "array([-5, -4, -3,  0,  1,  2,  3,  4,  5,  8,  9])"
      ]
     },
     "execution_count": 73,
     "metadata": {},
     "output_type": "execute_result"
    }
   ],
   "source": [
    "np.unique(array10)"
   ]
  },
  {
   "cell_type": "code",
   "execution_count": 74,
   "id": "6ea16b93",
   "metadata": {},
   "outputs": [
    {
     "data": {
      "text/plain": [
       "array([ 94, 100, 104, 200, 201, 231])"
      ]
     },
     "execution_count": 74,
     "metadata": {},
     "output_type": "execute_result"
    }
   ],
   "source": [
    "# unindo tabelas\n",
    "np.union1d(a,b)"
   ]
  },
  {
   "cell_type": "code",
   "execution_count": 75,
   "id": "74d77444",
   "metadata": {},
   "outputs": [],
   "source": [
    "array_empty = np.empty((3,3))"
   ]
  },
  {
   "cell_type": "code",
   "execution_count": 76,
   "id": "a3f45268",
   "metadata": {},
   "outputs": [
    {
     "name": "stdout",
     "output_type": "stream",
     "text": [
      "[[0. 0. 0.]\n",
      " [0. 0. 0.]\n",
      " [0. 0. 0.]]\n"
     ]
    }
   ],
   "source": [
    "print(array_empty)"
   ]
  },
  {
   "cell_type": "code",
   "execution_count": 77,
   "id": "8af68e09",
   "metadata": {},
   "outputs": [],
   "source": [
    "array_eye = np.eye(5)"
   ]
  },
  {
   "cell_type": "code",
   "execution_count": 78,
   "id": "825e90c1",
   "metadata": {},
   "outputs": [
    {
     "name": "stdout",
     "output_type": "stream",
     "text": [
      "[[1. 0. 0. 0. 0.]\n",
      " [0. 1. 0. 0. 0.]\n",
      " [0. 0. 1. 0. 0.]\n",
      " [0. 0. 0. 1. 0.]\n",
      " [0. 0. 0. 0. 1.]]\n"
     ]
    }
   ],
   "source": [
    "# Matriz identidade\n",
    "print(array_eye)"
   ]
  },
  {
   "cell_type": "code",
   "execution_count": 79,
   "id": "ecf8f3c2",
   "metadata": {},
   "outputs": [],
   "source": [
    "array_ident = np.identity(5)"
   ]
  },
  {
   "cell_type": "code",
   "execution_count": 80,
   "id": "70b2418c",
   "metadata": {},
   "outputs": [
    {
     "name": "stdout",
     "output_type": "stream",
     "text": [
      "[[1. 0. 0. 0. 0.]\n",
      " [0. 1. 0. 0. 0.]\n",
      " [0. 0. 1. 0. 0.]\n",
      " [0. 0. 0. 1. 0.]\n",
      " [0. 0. 0. 0. 1.]]\n"
     ]
    }
   ],
   "source": [
    "print(array_ident)"
   ]
  },
  {
   "cell_type": "markdown",
   "id": "44b45092",
   "metadata": {},
   "source": [
    "# Algebra Linear"
   ]
  },
  {
   "cell_type": "code",
   "execution_count": 81,
   "id": "95422072",
   "metadata": {},
   "outputs": [],
   "source": [
    "arrayAL = np.array([[6,5,3], [4, -3, 5], [2, 6, 9]])"
   ]
  },
  {
   "cell_type": "code",
   "execution_count": 82,
   "id": "5142eba6",
   "metadata": {},
   "outputs": [
    {
     "name": "stdout",
     "output_type": "stream",
     "text": [
      "[[ 6  5  3]\n",
      " [ 4 -3  5]\n",
      " [ 2  6  9]]\n"
     ]
    }
   ],
   "source": [
    "print(arrayAL)"
   ]
  },
  {
   "cell_type": "code",
   "execution_count": 83,
   "id": "82cd0c2f",
   "metadata": {},
   "outputs": [
    {
     "data": {
      "text/plain": [
       "3"
      ]
     },
     "execution_count": 83,
     "metadata": {},
     "output_type": "execute_result"
    }
   ],
   "source": [
    "np.linalg.matrix_rank(arrayAL)"
   ]
  },
  {
   "cell_type": "code",
   "execution_count": 84,
   "id": "266b7a2b",
   "metadata": {},
   "outputs": [
    {
     "data": {
      "text/plain": [
       "-382.00000000000006"
      ]
     },
     "execution_count": 84,
     "metadata": {},
     "output_type": "execute_result"
    }
   ],
   "source": [
    "np.linalg.det(arrayAL)"
   ]
  },
  {
   "cell_type": "code",
   "execution_count": 85,
   "id": "737c86a5",
   "metadata": {},
   "outputs": [
    {
     "data": {
      "text/plain": [
       "array([[ 0.14921466,  0.07068063, -0.08900524],\n",
       "       [ 0.06806283, -0.12565445,  0.04712042],\n",
       "       [-0.07853403,  0.06806283,  0.09947644]])"
      ]
     },
     "execution_count": 85,
     "metadata": {},
     "output_type": "execute_result"
    }
   ],
   "source": [
    "np.linalg.inv(arrayAL)"
   ]
  },
  {
   "cell_type": "code",
   "execution_count": 86,
   "id": "8c732387",
   "metadata": {},
   "outputs": [
    {
     "data": {
      "text/plain": [
       "12"
      ]
     },
     "execution_count": 86,
     "metadata": {},
     "output_type": "execute_result"
    }
   ],
   "source": [
    "np.trace(arrayAL)"
   ]
  },
  {
   "cell_type": "code",
   "execution_count": 87,
   "id": "c0d31e69",
   "metadata": {},
   "outputs": [],
   "source": [
    "array_j=np.array([[1,-2j],[2j,5]])"
   ]
  },
  {
   "cell_type": "code",
   "execution_count": 88,
   "id": "d14ea186",
   "metadata": {},
   "outputs": [],
   "source": [
    "array_c, array_d = np.linalg.eigh(array_j)"
   ]
  },
  {
   "cell_type": "code",
   "execution_count": 89,
   "id": "ba699f95",
   "metadata": {},
   "outputs": [
    {
     "name": "stdout",
     "output_type": "stream",
     "text": [
      "[0.17157288 5.82842712]\n"
     ]
    }
   ],
   "source": [
    "print(array_c)"
   ]
  },
  {
   "cell_type": "code",
   "execution_count": 90,
   "id": "5717d503",
   "metadata": {},
   "outputs": [
    {
     "name": "stdout",
     "output_type": "stream",
     "text": [
      "[[-0.92387953+0.j         -0.38268343+0.j        ]\n",
      " [ 0.        +0.38268343j  0.        -0.92387953j]]\n"
     ]
    }
   ],
   "source": [
    "print(array_d)"
   ]
  },
  {
   "cell_type": "code",
   "execution_count": 91,
   "id": "d1a26fab",
   "metadata": {},
   "outputs": [],
   "source": [
    "array_a=np.diag((1,2,3))"
   ]
  },
  {
   "cell_type": "code",
   "execution_count": 92,
   "id": "16affb74",
   "metadata": {},
   "outputs": [
    {
     "name": "stdout",
     "output_type": "stream",
     "text": [
      "[[1 0 0]\n",
      " [0 2 0]\n",
      " [0 0 3]]\n"
     ]
    }
   ],
   "source": [
    "print(array_a)"
   ]
  },
  {
   "cell_type": "code",
   "execution_count": 93,
   "id": "b6449d99",
   "metadata": {},
   "outputs": [],
   "source": [
    "array_c, array_d = np.linalg.eig(array_a)"
   ]
  },
  {
   "cell_type": "code",
   "execution_count": 94,
   "id": "a52e3051",
   "metadata": {},
   "outputs": [
    {
     "name": "stdout",
     "output_type": "stream",
     "text": [
      "[1. 2. 3.]\n"
     ]
    }
   ],
   "source": [
    "print(array_c)"
   ]
  },
  {
   "cell_type": "code",
   "execution_count": 95,
   "id": "824e6257",
   "metadata": {},
   "outputs": [
    {
     "name": "stdout",
     "output_type": "stream",
     "text": [
      "[[1. 0. 0.]\n",
      " [0. 1. 0.]\n",
      " [0. 0. 1.]]\n"
     ]
    }
   ],
   "source": [
    "print(array_d)"
   ]
  },
  {
   "cell_type": "code",
   "execution_count": 97,
   "id": "8e91beb0",
   "metadata": {},
   "outputs": [
    {
     "ename": "TypeError",
     "evalue": "vdot() missing 2 required positional arguments: 'a' and 'b'",
     "output_type": "error",
     "traceback": [
      "\u001b[0;31m---------------------------------------------------------------------------\u001b[0m",
      "\u001b[0;31mTypeError\u001b[0m                                 Traceback (most recent call last)",
      "Cell \u001b[0;32mIn[97], line 2\u001b[0m\n\u001b[1;32m      1\u001b[0m \u001b[38;5;66;03m# Produto de 2 vetores -> numeros complexos\u001b[39;00m\n\u001b[0;32m----> 2\u001b[0m \u001b[43mnp\u001b[49m\u001b[38;5;241;43m.\u001b[39;49m\u001b[43mvdot\u001b[49m\u001b[43m(\u001b[49m\u001b[43m)\u001b[49m\n",
      "File \u001b[0;32m<__array_function__ internals>:198\u001b[0m, in \u001b[0;36mvdot\u001b[0;34m(*args, **kwargs)\u001b[0m\n",
      "\u001b[0;31mTypeError\u001b[0m: vdot() missing 2 required positional arguments: 'a' and 'b'"
     ]
    }
   ],
   "source": [
    "# Produto de 2 vetores -> numeros complexos\n",
    "np.vdot()"
   ]
  },
  {
   "cell_type": "code",
   "execution_count": 98,
   "id": "7847b2b0",
   "metadata": {},
   "outputs": [],
   "source": [
    "a = np.array([[1,2],[3,4]])"
   ]
  },
  {
   "cell_type": "code",
   "execution_count": null,
   "id": "212846db",
   "metadata": {},
   "outputs": [],
   "source": [
    "b=np.array([6,14])"
   ]
  },
  {
   "cell_type": "code",
   "execution_count": null,
   "id": "dfa6e62f",
   "metadata": {},
   "outputs": [],
   "source": [
    "np.linalg.solve(a,b)"
   ]
  },
  {
   "cell_type": "code",
   "execution_count": null,
   "id": "51b494b8",
   "metadata": {},
   "outputs": [],
   "source": [
    "import matplotlib.pyplot as plt"
   ]
  },
  {
   "cell_type": "code",
   "execution_count": null,
   "id": "7552ca8e",
   "metadata": {},
   "outputs": [],
   "source": [
    "x = np.arange(0,9)"
   ]
  },
  {
   "cell_type": "code",
   "execution_count": null,
   "id": "8a1d917e",
   "metadata": {},
   "outputs": [],
   "source": [
    "A = np.array([x,np.ones(9)])\n",
    "print(A)\n",
    "print(A.T)"
   ]
  },
  {
   "cell_type": "code",
   "execution_count": null,
   "id": "855d66b4",
   "metadata": {},
   "outputs": [],
   "source": [
    "y=[18, 20, 21.5, 22.5, 23, 23, 24.5, 25.6, 26]"
   ]
  },
  {
   "cell_type": "code",
   "execution_count": null,
   "id": "ba98b212",
   "metadata": {},
   "outputs": [],
   "source": [
    "w = np.linalg.lstsq(A.T,y)[0]"
   ]
  },
  {
   "cell_type": "code",
   "execution_count": null,
   "id": "782176bd",
   "metadata": {},
   "outputs": [],
   "source": [
    "linha=w[0]*x+w[1]\n",
    "plt.plot(x,linha, 'r-') #plt.plot(x,linha, `r-`)\n",
    "plt.plot(x,y, 'o') # plt.plot(x,y, `o`)\n",
    "plt.show()"
   ]
  },
  {
   "cell_type": "markdown",
   "id": "33d9d16a",
   "metadata": {},
   "source": [
    "# Pandas"
   ]
  },
  {
   "cell_type": "code",
   "execution_count": null,
   "id": "64291999",
   "metadata": {},
   "outputs": [],
   "source": [
    "import pandas as pd"
   ]
  },
  {
   "cell_type": "code",
   "execution_count": null,
   "id": "e20d2c1b",
   "metadata": {},
   "outputs": [],
   "source": [
    "# criando uma serie de pandas - Tipo um array de numpy\n",
    "serie = pd.Series()"
   ]
  },
  {
   "cell_type": "code",
   "execution_count": null,
   "id": "d43501ae",
   "metadata": {},
   "outputs": [],
   "source": [
    "print(serie)"
   ]
  },
  {
   "cell_type": "code",
   "execution_count": null,
   "id": "a0d7743d",
   "metadata": {},
   "outputs": [],
   "source": [
    "dado = np.array([\"s\", \"e\", \"r\", \"i\", \"e\"])\n",
    "serie=pd.Series(dado)"
   ]
  },
  {
   "cell_type": "code",
   "execution_count": null,
   "id": "95d239f4",
   "metadata": {},
   "outputs": [],
   "source": [
    "print(serie)"
   ]
  },
  {
   "cell_type": "code",
   "execution_count": null,
   "id": "ab83e974",
   "metadata": {},
   "outputs": [],
   "source": [
    "df = pd.DataFrame()\n",
    "print(df)"
   ]
  },
  {
   "cell_type": "code",
   "execution_count": null,
   "id": "39a1b2ba",
   "metadata": {},
   "outputs": [],
   "source": [
    "lista = ['Conjunto', 'de', 'Valores', 'Armazenado'] "
   ]
  },
  {
   "cell_type": "code",
   "execution_count": null,
   "id": "865c0093",
   "metadata": {},
   "outputs": [],
   "source": [
    "df = pd.DataFrame(lista)\n",
    "print(df) #dataframe ja indexado "
   ]
  },
  {
   "cell_type": "code",
   "execution_count": null,
   "id": "a17c8f51",
   "metadata": {},
   "outputs": [],
   "source": [
    "data = {'Nome': ['Gabriela', 'Isabela', 'Pedro', 'Thiago', 'Samuel'],\n",
    "        'Idade': [19, 18, 21, 20, 20],\n",
    "       'Cidade': ['Sao Paulo', 'Sao Paulo', 'Praia Grande', 'Praia Grande', 'Sao Paulo']}"
   ]
  },
  {
   "cell_type": "code",
   "execution_count": null,
   "id": "36642745",
   "metadata": {},
   "outputs": [],
   "source": [
    "df=pd.DataFrame(data)"
   ]
  },
  {
   "cell_type": "code",
   "execution_count": null,
   "id": "d4227c9d",
   "metadata": {},
   "outputs": [],
   "source": [
    "print(df)"
   ]
  },
  {
   "cell_type": "code",
   "execution_count": null,
   "id": "e5906996",
   "metadata": {},
   "outputs": [],
   "source": [
    "print(df[['Nome', 'Cidade']])"
   ]
  },
  {
   "cell_type": "code",
   "execution_count": null,
   "id": "daecb783",
   "metadata": {},
   "outputs": [],
   "source": [
    "df.iloc[0]"
   ]
  },
  {
   "cell_type": "code",
   "execution_count": null,
   "id": "b7028cc5",
   "metadata": {},
   "outputs": [],
   "source": []
  }
 ],
 "metadata": {
  "kernelspec": {
   "display_name": "Python 3 (ipykernel)",
   "language": "python",
   "name": "python3"
  },
  "language_info": {
   "codemirror_mode": {
    "name": "ipython",
    "version": 3
   },
   "file_extension": ".py",
   "mimetype": "text/x-python",
   "name": "python",
   "nbconvert_exporter": "python",
   "pygments_lexer": "ipython3",
   "version": "3.8.10"
  }
 },
 "nbformat": 4,
 "nbformat_minor": 5
}
